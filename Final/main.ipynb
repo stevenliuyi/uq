{
 "cells": [
  {
   "cell_type": "code",
   "execution_count": 1,
   "metadata": {},
   "outputs": [],
   "source": [
    "import numpy as np\n",
    "from bayesian_opt import *\n",
    "from rbf_opt import *\n",
    "from orthog_poly_opt import *"
   ]
  },
  {
   "cell_type": "code",
   "execution_count": 2,
   "metadata": {},
   "outputs": [],
   "source": [
    "%matplotlib inline"
   ]
  },
  {
   "cell_type": "markdown",
   "metadata": {},
   "source": [
    "# Vreman SGS model (1 paramter)"
   ]
  },
  {
   "cell_type": "markdown",
   "metadata": {},
   "source": [
    "Vreman (2004) model is a recent subgrid-scale (SGS) model for large eddy simulation (LES). Similar to the classic and best-known Smagorinsky (1963) model, the Verman model uses an eddy-viscosity expression to model the unresolved turbulent stress tensor\n",
    "\n",
    "$$ \\tau_{ij} = -2\\nu_e\\bar{S_{ij}},$$\n",
    "\n",
    "where $\\nu_e$ is the eddy viscosity, and $\\bar{S_{ij}}$ is the resolved strain rate tensor.\n",
    "\n",
    "In the Vreman model, there is a parameter $c\\approx 2.5C_S^2$, where $C_S$ is the Smagorinsky constant. We want to find that best $c$ in the sense that it matches the direct numerical simulation (DNS) results best.\n",
    "\n",
    "Typically $C_S=0.1$ to $0.2$ are used in literature, which corresponds to $c=0.0025$ to $0.1$. Here we choose a slightly large parameter range $[0, 0.14]$ for investigation."
   ]
  },
  {
   "cell_type": "markdown",
   "metadata": {},
   "source": [
    "## Bayesian optimization\n",
    "\n",
    "First we apply the Bayesian optimization to solve the problem. For the initial points, we use the Sobol sequence."
   ]
  },
  {
   "cell_type": "code",
   "execution_count": 3,
   "metadata": {
    "scrolled": false
   },
   "outputs": [
    {
     "name": "stdout",
     "output_type": "stream",
     "text": [
      "[[ 0.    ]\n",
      " [ 0.07  ]\n",
      " [ 0.105 ]\n",
      " [ 0.035 ]\n",
      " [ 0.0525]\n",
      " [ 0.1225]\n",
      " [ 0.0875]\n",
      " [ 0.0175]]\n"
     ]
    }
   ],
   "source": [
    "# generate Sobol points\n",
    "sys.path.append('../HW2')\n",
    "import seq\n",
    "\n",
    "c = seq.SobolSeq(8,1).get() * 0.14\n",
    "print(c)"
   ]
  },
  {
   "cell_type": "markdown",
   "metadata": {},
   "source": [
    "The DNS/LES problem we are solving here is a supersonic channel flow case. We use the same setup as the DNS of Morinishi et. al (2004) for comparison (bulk Mach number $M_b=1.5$ and bulk Reynolds number $Re_b=3000$). The computational box size is $4\\pi h\\times 2h \\times 4/3\\pi h$.\n",
    "\n",
    "The number of points are $120\\times 180\\times 120$ for DNS, and are $60\\times 120\\times 60$ for LES. For the wall-normal direction points, hyperbolic tangent distribution is used."
   ]
  },
  {
   "cell_type": "markdown",
   "metadata": {},
   "source": [
    "| Case | $c$    | $Re_b$  | $M_b$ | $Re_{\\tau}$ | $M_{\\tau}$ | $-B_q$ | \n",
    "|------|--------|---------|-------|-------------|------------|--------|\n",
    "| DNS  | -      | 3011.36 | 1.506 | 219.54      | 0.0800     | 0.0486 |\n",
    "| 1    | 0      | 3017.41 | 1.518 | 226.49      | 0.0824     | 0.0501 |\n",
    "| 2    | 0.07   | 3008.80 | 1.504 | 214.87      | 0.0785     | 0.0477 |\n",
    "| 3    | 0.105  | 3002.50 | 1.501 | 210.96      | 0.0771     | 0.0469 |\n",
    "| 4    | 0.035  | 3010.70 | 1.505 | 219.27      | 0.0799     | 0.0486 |\n",
    "| 5    | 0.0525 | 3006.93 | 1.503 | 214.53      | 0.0783     | 0.0476 |\n",
    "| 6    | 0.1225 | 3005.06 | 1.502 | 208.91      | 0.0764     | 0.0464 |\n",
    "| 7    | 0.0875 | 3007.05 | 1.504 | 214.07      | 0.0782     | 0.0476 |\n",
    "| 8    | 0.0175 | 3014.24 | 1.507 | 221.58      | 0.0807     | 0.0491 |"
   ]
  },
  {
   "cell_type": "markdown",
   "metadata": {},
   "source": [
    "We then read in $y^+$ and $\\langle u\\rangle^+$ which are calculatd from the DNS and LES data. Since $y^+$ points are not same for different cases, we interpolate them to a single $y^+$ grid by using the spline interpolation."
   ]
  },
  {
   "cell_type": "code",
   "execution_count": 4,
   "metadata": {},
   "outputs": [],
   "source": [
    "# read DNS data\n",
    "dns_y_plus_orig = np.load('data/DNS_y_plus.npy')\n",
    "dns_u_plus_orig = np.load('data/DNS_u_mean_plus.npy')\n",
    "\n",
    "# read LES data\n",
    "def read_les_data(case, q='u_mean_plus'):\n",
    "    les_y_plus = np.load('data/Case%s_y_plus.npy' % str(case).zfill(2))\n",
    "    les_u_plus = np.load('data/Case%s_%s.npy' % (str(case).zfill(2), q))\n",
    "    \n",
    "    return les_y_plus, les_u_plus\n",
    "\n",
    "n_cases = c.shape[0]\n",
    "\n",
    "les_y_plus_orig_list = []\n",
    "les_u_plus_orig_list = []\n",
    "\n",
    "for i in range(1,n_cases+1):\n",
    "    les_y_plus_orig, les_u_plus_orig = read_les_data(i)\n",
    "    les_y_plus_orig_list.append(les_y_plus_orig)\n",
    "    les_u_plus_orig_list.append(les_u_plus_orig)"
   ]
  },
  {
   "cell_type": "code",
   "execution_count": 5,
   "metadata": {},
   "outputs": [],
   "source": [
    "from scipy import interpolate\n",
    "\n",
    "y_plus = np.logspace(0, np.log(200)/np.log(10), num=100)\n",
    "\n",
    "def interp(y_plus_orig, data_orig):\n",
    "    tck = interpolate.splrep(y_plus_orig, data_orig, s=0)\n",
    "    data = interpolate.splev(y_plus, tck, der=0)\n",
    "    \n",
    "    return data"
   ]
  },
  {
   "cell_type": "code",
   "execution_count": 6,
   "metadata": {},
   "outputs": [],
   "source": [
    "dns_u_plus = interp(dns_y_plus_orig, dns_u_plus_orig)\n",
    "\n",
    "les_u_plus_list = []\n",
    "for i in range(n_cases):\n",
    "    les_u_plus_list.append(interp(les_y_plus_orig_list[i], les_u_plus_orig_list[i]))"
   ]
  },
  {
   "cell_type": "markdown",
   "metadata": {},
   "source": [
    "Below is the $y^+$ - $\\langle u\\rangle^+$ plot for the DNS case and one LES case ($c=0$, which is actually an under-resolved DNS case)."
   ]
  },
  {
   "cell_type": "code",
   "execution_count": 7,
   "metadata": {},
   "outputs": [
    {
     "data": {
      "text/plain": [
       "<matplotlib.legend.Legend at 0x7f8b84baaba8>"
      ]
     },
     "execution_count": 7,
     "metadata": {},
     "output_type": "execute_result"
    },
    {
     "data": {
      "image/png": "[encoded data removed]",
      "text/plain": [
       "<matplotlib.figure.Figure at 0x7f8b86c2d4a8>"
      ]
     },
     "metadata": {},
     "output_type": "display_data"
    }
   ],
   "source": [
    "plt.plot(y_plus, dns_u_plus)\n",
    "plt.plot(y_plus, les_u_plus_list[0])\n",
    "plt.xlabel('y+')\n",
    "plt.ylabel('<u>+')\n",
    "plt.xscale('log')\n",
    "plt.legend(['DNS', 'LES (c=0)'])"
   ]
  },
  {
   "cell_type": "markdown",
   "metadata": {},
   "source": [
    "For the optimization problem, we define the cost function as the MSE of the differences in $\\langle u\\rangle+$."
   ]
  },
  {
   "cell_type": "code",
   "execution_count": 8,
   "metadata": {},
   "outputs": [],
   "source": [
    "def cost(les_data, dns_data):\n",
    "    return np.mean((les_data-dns_data)**2)"
   ]
  },
  {
   "cell_type": "code",
   "execution_count": 9,
   "metadata": {},
   "outputs": [],
   "source": [
    "costs = []\n",
    "for i in range(n_cases):\n",
    "    costs.append(cost(les_u_plus_list[i], dns_u_plus))"
   ]
  },
  {
   "cell_type": "code",
   "execution_count": 57,
   "metadata": {},
   "outputs": [],
   "source": [
    "bo = BayesianOptimization(bounds=[[0,0.14]], tol=1e-3)\n",
    "bo.opt_method = 'nelder-mead'\n",
    "\n",
    "bo.initialize(x=c, y=costs)"
   ]
  },
  {
   "cell_type": "markdown",
   "metadata": {},
   "source": [
    "After feeding the initial points to the Bayesian optimization sovler, we can obtain the next point to investigate. We can repeat the process until the convergence."
   ]
  },
  {
   "cell_type": "code",
   "execution_count": 58,
   "metadata": {},
   "outputs": [
    {
     "data": {
      "text/plain": [
       "array([ 0.0371875])"
      ]
     },
     "execution_count": 58,
     "metadata": {},
     "output_type": "execute_result"
    }
   ],
   "source": [
    "bo.x_next"
   ]
  },
  {
   "cell_type": "code",
   "execution_count": 59,
   "metadata": {},
   "outputs": [],
   "source": [
    "def update_bo(x_next, case_no):\n",
    "    x_next_cost = cost(interp(*read_les_data(case_no)), dns_u_plus)\n",
    "    bo.update(x_next_cost, x=np.array([x_next]))\n",
    "    if bo.converged: print('Converged!')\n",
    "\n",
    "update_bo(0.0372, 9)"
   ]
  },
  {
   "cell_type": "code",
   "execution_count": 60,
   "metadata": {},
   "outputs": [
    {
     "data": {
      "text/plain": [
       "array([ 0.0243258])"
      ]
     },
     "execution_count": 60,
     "metadata": {},
     "output_type": "execute_result"
    }
   ],
   "source": [
    "bo.x_next"
   ]
  },
  {
   "cell_type": "code",
   "execution_count": 61,
   "metadata": {},
   "outputs": [],
   "source": [
    "update_bo(0.0243, 10)"
   ]
  },
  {
   "cell_type": "code",
   "execution_count": 62,
   "metadata": {},
   "outputs": [
    {
     "data": {
      "text/plain": [
       "array([ 0.02731809])"
      ]
     },
     "execution_count": 62,
     "metadata": {},
     "output_type": "execute_result"
    }
   ],
   "source": [
    "bo.x_next"
   ]
  },
  {
   "cell_type": "code",
   "execution_count": 63,
   "metadata": {},
   "outputs": [
    {
     "name": "stdout",
     "output_type": "stream",
     "text": [
      "Converged!\n"
     ]
    }
   ],
   "source": [
    "update_bo(0.0273, 11)"
   ]
  },
  {
   "cell_type": "code",
   "execution_count": 64,
   "metadata": {},
   "outputs": [
    {
     "data": {
      "image/png": "[encoded data removed]",
      "text/plain": [
       "<matplotlib.figure.Figure at 0x7f8b84ad8f60>"
      ]
     },
     "metadata": {},
     "output_type": "display_data"
    },
    {
     "data": {
      "image/png": "[encoded data removed]",
      "text/plain": [
       "<matplotlib.figure.Figure at 0x7f8b849a6f98>"
      ]
     },
     "metadata": {},
     "output_type": "display_data"
    }
   ],
   "source": [
    "bo.plot()\n",
    "bo.plot(xmin=0, xmax=0.08, ymin=0, ymax=0.2)"
   ]
  },
  {
   "cell_type": "markdown",
   "metadata": {},
   "source": [
    "We can then obtain the optimized $c$:"
   ]
  },
  {
   "cell_type": "code",
   "execution_count": 65,
   "metadata": {},
   "outputs": [
    {
     "name": "stdout",
     "output_type": "stream",
     "text": [
      "Best c: 0.024300, Cost: 0.009748\n"
     ]
    }
   ],
   "source": [
    "bo.opt_method = 'nelder-mead'\n",
    "bo.minimize()\n",
    "print('Best c: %f, Cost: %f' % (bo.xbest, bo.ybest))"
   ]
  },
  {
   "cell_type": "code",
   "execution_count": 66,
   "metadata": {},
   "outputs": [
    {
     "name": "stderr",
     "output_type": "stream",
     "text": [
      " Temperature        Energy    Accept   Improve     Elapsed   Remaining\n",
      "     2.50000         -0.00   100.00%    40.00%     0:00:02     0:00:00"
     ]
    },
    {
     "name": "stdout",
     "output_type": "stream",
     "text": [
      "Best c: 0.024300, Cost: 0.009748\n"
     ]
    }
   ],
   "source": [
    "bo.opt_method = 'anneal'\n",
    "bo.minimize()\n",
    "print('Best c: %f, Cost: %f' % (bo.xbest, bo.ybest))"
   ]
  },
  {
   "cell_type": "code",
   "execution_count": 68,
   "metadata": {},
   "outputs": [
    {
     "name": "stdout",
     "output_type": "stream",
     "text": [
      "Best c: 0.024300, Cost: 0.009748\n"
     ]
    }
   ],
   "source": [
    "bo.opt_method = 'lm'\n",
    "bo.minimize()\n",
    "print('Best c: %f, Cost: %f' % (bo.xbest, bo.ybest))"
   ]
  },
  {
   "cell_type": "code",
   "execution_count": 69,
   "metadata": {},
   "outputs": [
    {
     "data": {
      "text/plain": [
       "0.098590060350929903"
      ]
     },
     "execution_count": 69,
     "metadata": {},
     "output_type": "execute_result"
    }
   ],
   "source": [
    "np.sqrt(bo.xbest[0]/2.5)"
   ]
  },
  {
   "cell_type": "markdown",
   "metadata": {},
   "source": [
    "We find that different optimization methods give the same result in this case. The best $c$ we have is 0.0243, which corresponds to the Smogorinksy constant $C_s\\approx 0.1$."
   ]
  },
  {
   "cell_type": "markdown",
   "metadata": {},
   "source": [
    "## Radial basis function (RBF) interpolation"
   ]
  },
  {
   "cell_type": "markdown",
   "metadata": {},
   "source": [
    "Next, we use RBF to approximate the cost function. Two kernels (Gaussian and inverse-quadaratic) are tried."
   ]
  },
  {
   "cell_type": "code",
   "execution_count": 70,
   "metadata": {},
   "outputs": [],
   "source": [
    "rbf1 = RBFOptimization(c/max(c), costs, kernel='gaussian')\n",
    "rbf2 = RBFOptimization(c/max(c), costs, kernel='inverse')"
   ]
  },
  {
   "cell_type": "code",
   "execution_count": 71,
   "metadata": {
    "scrolled": true
   },
   "outputs": [
    {
     "data": {
      "text/plain": [
       "<matplotlib.legend.Legend at 0x7f8b847d4ba8>"
      ]
     },
     "execution_count": 71,
     "metadata": {},
     "output_type": "execute_result"
    },
    {
     "data": {
      "image/png": "[encoded data removed]",
      "text/plain": [
       "<matplotlib.figure.Figure at 0x7f8b848d3d30>"
      ]
     },
     "metadata": {},
     "output_type": "display_data"
    }
   ],
   "source": [
    "plt.clf()\n",
    "c_vals = np.linspace(min(c),max(c),num=100)\n",
    "plt.plot(c, costs, 'o')\n",
    "plt.plot(c_vals, [rbf1.interpolate(i) for i in c_vals/max(c)], label='Gaussian RBF')\n",
    "plt.plot(c_vals, [rbf2.interpolate(i) for i in c_vals/max(c)], label='inverse-quadaratic RBF')\n",
    "#plt.plot(c_vals, [rbfsp(i) for i in c_vals], label='scipy RBF interpolation')\n",
    "plt.legend(loc='upper left')"
   ]
  },
  {
   "cell_type": "code",
   "execution_count": 72,
   "metadata": {},
   "outputs": [
    {
     "name": "stdout",
     "output_type": "stream",
     "text": [
      "Best c: 0.026141, Cost: -0.019261\n"
     ]
    }
   ],
   "source": [
    "bounds = [[0,1]]\n",
    "rbf2.opt_method = 'nelder-mead'\n",
    "rbf2.minimize(bounds)\n",
    "print('Best c: %f, Cost: %f' % (rbf2.xbest*max(c), rbf2.ybest))"
   ]
  },
  {
   "cell_type": "code",
   "execution_count": 73,
   "metadata": {},
   "outputs": [
    {
     "name": "stderr",
     "output_type": "stream",
     "text": [
      " Temperature        Energy    Accept   Improve     Elapsed   Remaining\n",
      "     2.50000          0.14   100.00%    50.00%     0:00:00     0:00:00"
     ]
    },
    {
     "name": "stdout",
     "output_type": "stream",
     "text": [
      "Best c: 0.026154, Cost: -0.019261\n"
     ]
    }
   ],
   "source": [
    "rbf2.opt_method = 'anneal'\n",
    "rbf2.minimize(bounds)\n",
    "print('Best c: %f, Cost: %f' % (rbf2.xbest*max(c), rbf2.ybest))"
   ]
  },
  {
   "cell_type": "code",
   "execution_count": 74,
   "metadata": {},
   "outputs": [
    {
     "name": "stdout",
     "output_type": "stream",
     "text": [
      "Best c: 0.025840, Cost: -0.019214\n"
     ]
    }
   ],
   "source": [
    "rbf2.opt_method = 'lm'\n",
    "rbf2.minimize(bounds)\n",
    "print('Best c: %f, Cost: %f' % (rbf2.xbest*max(c), rbf2.ybest))"
   ]
  },
  {
   "cell_type": "markdown",
   "metadata": {},
   "source": [
    "The best $c$ we have is 0.0261 (for the inverse-quadaratic RBF case). Then we run another LES case for $c=0.0261$, and the real cost we have is about 0.023, which is larger than the cost we got from the Bayesian optimization."
   ]
  },
  {
   "cell_type": "code",
   "execution_count": 75,
   "metadata": {},
   "outputs": [
    {
     "data": {
      "text/plain": [
       "0.022902407698436669"
      ]
     },
     "execution_count": 75,
     "metadata": {},
     "output_type": "execute_result"
    }
   ],
   "source": [
    "_, les_u_plus_orig = read_les_data(12)\n",
    "cost(interp(les_y_plus_orig_list[i], les_u_plus_orig), dns_u_plus)"
   ]
  },
  {
   "cell_type": "markdown",
   "metadata": {},
   "source": [
    "## Orthogonal polynomials representation"
   ]
  },
  {
   "cell_type": "markdown",
   "metadata": {},
   "source": [
    "Last, we use the orthogonal polynomials expansion to approximate the cost function, and four families of orthogonal polynomials are used here."
   ]
  },
  {
   "cell_type": "code",
   "execution_count": 76,
   "metadata": {},
   "outputs": [],
   "source": [
    "orth1 = OrthogPolyOptimization(c/max(c), costs, rho='uniform', opt_method='nelder-mead')\n",
    "orth2 = OrthogPolyOptimization(c/max(c), costs, rho='gaussian', opt_method='nelder-mead')\n",
    "orth3 = OrthogPolyOptimization(c/max(c), costs, rho='beta', opt_method='nelder-mead')\n",
    "orth4 = OrthogPolyOptimization(c/max(c), costs, rho='gamma', opt_method='nelder-mead')"
   ]
  },
  {
   "cell_type": "code",
   "execution_count": 77,
   "metadata": {
    "scrolled": true
   },
   "outputs": [
    {
     "data": {
      "text/plain": [
       "<matplotlib.legend.Legend at 0x7f8b84ae4b00>"
      ]
     },
     "execution_count": 77,
     "metadata": {},
     "output_type": "execute_result"
    },
    {
     "data": {
      "image/png": "[encoded data removed]",
      "text/plain": [
       "<matplotlib.figure.Figure at 0x7f8b848b8978>"
      ]
     },
     "metadata": {},
     "output_type": "display_data"
    }
   ],
   "source": [
    "plt.plot(c, costs, 'o')\n",
    "plt.plot(c_vals, [orth1.predict(i) for i in c_vals/max(c)], label='Legendre')\n",
    "plt.plot(c_vals, [orth2.predict(i) for i in c_vals/max(c)], label='Hermite')\n",
    "plt.plot(c_vals, [orth3.predict(i) for i in c_vals/max(c)], label='Jacobi')\n",
    "plt.plot(c_vals, [orth4.predict(i) for i in c_vals/max(c)], label='Laguerre')\n",
    "plt.legend(loc='upper left')"
   ]
  },
  {
   "cell_type": "code",
   "execution_count": 78,
   "metadata": {},
   "outputs": [
    {
     "name": "stderr",
     "output_type": "stream",
     "text": [
      " Temperature        Energy    Accept   Improve     Elapsed   Remaining\n",
      "     2.50000          0.14   100.00%    60.00%     0:00:01     0:00:00"
     ]
    },
    {
     "name": "stdout",
     "output_type": "stream",
     "text": [
      "Best c: 0.025862, Cost: -0.024188\n"
     ]
    }
   ],
   "source": [
    "orth1.opt_method = 'anneal'\n",
    "orth1.minimize(bounds)\n",
    "print('Best c: %f, Cost: %f' % (orth1.xbest*max(c), orth1.ybest))"
   ]
  },
  {
   "cell_type": "markdown",
   "metadata": {},
   "source": [
    "The best $c$ we have is 0.0259 (for the Legendre polynomial case). Then we run another LES case for $c=0.0259$, and the real cost we have is about 0.028, still larger than the cost from the Bayesian optimization."
   ]
  },
  {
   "cell_type": "code",
   "execution_count": 79,
   "metadata": {},
   "outputs": [
    {
     "data": {
      "text/plain": [
       "0.027571608146748316"
      ]
     },
     "execution_count": 79,
     "metadata": {},
     "output_type": "execute_result"
    }
   ],
   "source": [
    "_, les_u_plus_orig = read_les_data(13)\n",
    "cost(interp(les_y_plus_orig_list[i], les_u_plus_orig), dns_u_plus)"
   ]
  },
  {
   "cell_type": "markdown",
   "metadata": {},
   "source": [
    "Let' also try a different cost function by using a 2nd-order statistics instead of 1st-order statistics - the Reynolds stress component $-\\langle\\rho u'v'\\rangle^+ = -\\langle\\rho u'v'\\rangle/(\\rho_w u_{\\tau}^2)$."
   ]
  },
  {
   "cell_type": "code",
   "execution_count": 80,
   "metadata": {},
   "outputs": [],
   "source": [
    "# DNS\n",
    "dns_rhouv = interp(dns_y_plus_orig, np.load('data/DNS_uv.npy'))\n",
    "\n",
    "# LES\n",
    "les_rhouv_list = []\n",
    "for i in range(n_cases):\n",
    "    _, les_rhouv_orig = read_les_data(i+1, q='uv')\n",
    "    les_rhouv_list.append(interp(les_y_plus_orig_list[i], les_rhouv_orig))\n",
    "\n",
    "rhouv_costs = []\n",
    "for i in range(n_cases):\n",
    "    rhouv_costs.append(cost(les_rhouv_list[i], dns_rhouv))"
   ]
  },
  {
   "cell_type": "code",
   "execution_count": 81,
   "metadata": {},
   "outputs": [
    {
     "data": {
      "text/plain": [
       "<matplotlib.legend.Legend at 0x7f8b847b6ac8>"
      ]
     },
     "execution_count": 81,
     "metadata": {},
     "output_type": "execute_result"
    },
    {
     "data": {
      "image/png": "[encoded data removed]",
      "text/plain": [
       "<matplotlib.figure.Figure at 0x7f8b84815978>"
      ]
     },
     "metadata": {},
     "output_type": "display_data"
    }
   ],
   "source": [
    "plt.plot(y_plus, dns_rhouv)\n",
    "plt.plot(y_plus, les_rhouv_list[0])\n",
    "plt.xlabel('y+')\n",
    "plt.ylabel(\"-<rhou'v'>+\")\n",
    "plt.xscale('log')\n",
    "plt.legend(['DNS', 'LES (c=0)'])"
   ]
  },
  {
   "cell_type": "code",
   "execution_count": 82,
   "metadata": {},
   "outputs": [
    {
     "data": {
      "text/plain": [
       "<matplotlib.legend.Legend at 0x7f8b8467cf98>"
      ]
     },
     "execution_count": 82,
     "metadata": {},
     "output_type": "execute_result"
    },
    {
     "data": {
      "image/png": "[encoded data removed]",
      "text/plain": [
       "<matplotlib.figure.Figure at 0x7f8b847afc50>"
      ]
     },
     "metadata": {},
     "output_type": "display_data"
    }
   ],
   "source": [
    "orth1 = OrthogPolyOptimization(c/max(c), rhouv_costs, rho='uniform')\n",
    "orth2 = OrthogPolyOptimization(c/max(c), rhouv_costs, rho='gaussian')\n",
    "orth3 = OrthogPolyOptimization(c/max(c), rhouv_costs, rho='beta')\n",
    "orth4 = OrthogPolyOptimization(c/max(c), rhouv_costs, rho='gamma')\n",
    "\n",
    "plt.plot(c, rhouv_costs, 'o')\n",
    "plt.plot(c_vals, [orth1.predict(i) for i in c_vals/max(c)], label='Legendre')\n",
    "plt.plot(c_vals, [orth2.predict(i) for i in c_vals/max(c)], label='Hermite')\n",
    "plt.plot(c_vals, [orth3.predict(i) for i in c_vals/max(c)], label='Jacobi')\n",
    "plt.plot(c_vals, [orth4.predict(i) for i in c_vals/max(c)], label='Laguerre')\n",
    "plt.legend(loc='upper left')"
   ]
  },
  {
   "cell_type": "code",
   "execution_count": 83,
   "metadata": {},
   "outputs": [
    {
     "name": "stderr",
     "output_type": "stream",
     "text": [
      " Temperature        Energy    Accept   Improve     Elapsed   Remaining\n",
      "     2.50000          0.00   100.00%    30.00%     0:00:01     0:00:00"
     ]
    },
    {
     "name": "stdout",
     "output_type": "stream",
     "text": [
      "Best c: 0.023375, Cost: -0.000011\n"
     ]
    }
   ],
   "source": [
    "orth1.opt_method = 'anneal'\n",
    "orth1.minimize(bounds)\n",
    "print('Best c: %f, Cost: %f' % (orth1.xbest*max(c), orth1.ybest))"
   ]
  },
  {
   "cell_type": "markdown",
   "metadata": {},
   "source": [
    "So we see that the best $c$ got from the Reynolds stress cost function is similar to $c$ got before from the mean velocity cost function."
   ]
  },
  {
   "cell_type": "markdown",
   "metadata": {},
   "source": [
    "Below is the summary of the additional cases we run."
   ]
  },
  {
   "cell_type": "markdown",
   "metadata": {},
   "source": [
    "| Case | $c$    | $Re_b$  | $M_b$ | $Re_{\\tau}$ | $M_{\\tau}$ | $-B_q$ | \n",
    "|------|--------|---------|-------|-------------|------------|--------|\n",
    "| 9    | 0.0372 | 3010.51 | 1.505 | 218.24      | 0.0796     | 0.0484 |\n",
    "| 10   | 0.0243 | 3012.60 | 1.506 | 219.31      | 0.0800     | 0.0486 |\n",
    "| 11   | 0.0273 | 3009.25 | 1.504 | 218.96      | 0.0799     | 0.0485 |\n",
    "| 12   | 0.0261 | 3008.67 | 1.504 | 218.60      | 0.0798     | 0.0484 |\n",
    "| 13   | 0.0259 | 3010.63 | 1.505 | 221.51      | 0.0807     | 0.0490 |"
   ]
  },
  {
   "cell_type": "markdown",
   "metadata": {},
   "source": [
    "# Vreman SGS model (2 parameters)"
   ]
  },
  {
   "cell_type": "markdown",
   "metadata": {},
   "source": [
    "The momentum eddy viscosity can be estimated from the Vreman model. But for the energy equation, we need the heat transfer eddy viscosity. We could use the the turbulent Prandtl number $Pr_t$ to obtain the heat transfer eddy viscosity from the momentum eddy viscosity. $Pr_t$ is just defined as the ratio between the two eddy viscosity. The theortical $Pr_t$ obtained from Reynolds analogy is 1, and in the experiments $Pr_t$ typically ranges from 0.7 to 0.9. Here we investigate $Pr_t$ from 0.6 to 1.\n",
    "\n",
    "Along with the constant $c$ in the Vreman model, now we have 2 parameters to optimize. Again, we use the Sobol sequence to generate the initial points for the Bayesian optimization."
   ]
  },
  {
   "cell_type": "code",
   "execution_count": 84,
   "metadata": {},
   "outputs": [],
   "source": [
    "sobol_pts = seq.SobolSeq(8,2).get()"
   ]
  },
  {
   "cell_type": "code",
   "execution_count": 85,
   "metadata": {
    "scrolled": true
   },
   "outputs": [
    {
     "data": {
      "text/plain": [
       "array([[ 0.    ,  0.6   ],\n",
       "       [ 0.07  ,  0.8   ],\n",
       "       [ 0.105 ,  0.7   ],\n",
       "       [ 0.035 ,  0.9   ],\n",
       "       [ 0.0525,  0.75  ],\n",
       "       [ 0.1225,  0.95  ],\n",
       "       [ 0.0875,  0.65  ],\n",
       "       [ 0.0175,  0.85  ]])"
      ]
     },
     "execution_count": 85,
     "metadata": {},
     "output_type": "execute_result"
    }
   ],
   "source": [
    "sobol_pts[:,0] *= 0.14 # Vreman C\n",
    "sobol_pts[:,1] = sobol_pts[:,1] * 0.4 + 0.6 # Pr_t\n",
    "sobol_pts"
   ]
  },
  {
   "cell_type": "code",
   "execution_count": null,
   "metadata": {},
   "outputs": [],
   "source": [
    "n_cases_2d = sobol_pts.shape[0]\n",
    "\n",
    "# DNS\n",
    "dns_t_plus = interp(dns_y_plus_orig, np.load('data/DNS_T_mean_plus.npy'))\n",
    "\n",
    "# LES\n",
    "les_2d_u_plus_list = []\n",
    "for i in range(n_cases_2d):\n",
    "    _, les_u_plus_orig = read_les_data('B%s'% str(i+1).zfill(2), q='T_mean_plus')\n",
    "    les_2d_u_plus_list.append(interp(les_y_plus_orig_list[i], les_u_plus_orig))\n",
    "\n",
    "costs_2d = []\n",
    "for i in range(n_cases_2d):\n",
    "    costs_2d.append(cost(les_2d_u_plus_list[i], dns_t_plus))"
   ]
  },
  {
   "cell_type": "code",
   "execution_count": null,
   "metadata": {},
   "outputs": [],
   "source": [
    "normed_params = np.copy(sobol_pts)\n",
    "normed_params[:,0] /= max(sobol_pts[:,0])\n",
    "normed_params[:,1] -= min(sobol_pts[:,1])\n",
    "normed_params[:,1] /= max(sobol_pts[:,1]) - min(sobol_pts[:,1])"
   ]
  },
  {
   "cell_type": "code",
   "execution_count": null,
   "metadata": {},
   "outputs": [],
   "source": [
    "orth_2d = OrthogPolyOptimization(normed_params, np.array(costs_2d).reshape((-1,1)), rho='gaussian')"
   ]
  },
  {
   "cell_type": "code",
   "execution_count": null,
   "metadata": {},
   "outputs": [],
   "source": [
    "bo_2d = BayesianOptimization(bounds=[[0,0.14],[0.6,1.0]], tol=1e-2)\n",
    "bo_2d.opt_method = 'nelder-mead'\n",
    "\n",
    "bo_2d.initialize(x=sobol_pts, y=costs_2d)"
   ]
  },
  {
   "cell_type": "code",
   "execution_count": null,
   "metadata": {},
   "outputs": [],
   "source": [
    "bo.x_next"
   ]
  },
  {
   "cell_type": "code",
   "execution_count": null,
   "metadata": {},
   "outputs": [],
   "source": [
    "from mpl_toolkits.mplot3d import Axes3D\n",
    "from matplotlib import cm\n",
    "\n",
    "def generate_2d_points(fun, n):\n",
    "    x1 = np.linspace(0, 1,num=n)\n",
    "    x2 = np.linspace(0, 1,num=n)\n",
    "    x1, x2 = np.meshgrid(x1, x2)\n",
    "    \n",
    "    y = np.zeros(x1.shape)\n",
    "    for i in range(y.shape[0]):\n",
    "        for j in range(y.shape[1]):\n",
    "            y[i,j] = fun([x1[i,j], x2[i,j]])\n",
    "\n",
    "    return x1, x2, y\n",
    "\n",
    "c_vals, prt_vals, costs_2d_pred = generate_2d_points(orth.predict, 50)\n",
    "\n",
    "# convert back to real values\n",
    "c_vals *= max(sobol_pts[:,0])\n",
    "prt_vals *= max(sobol_pts[:,1]) - min(sobol_pts[:,1])\n",
    "prt_vals += min(sobol_pts[:,1])\n",
    "\n",
    "fig = plt.figure()\n",
    "ax = fig.gca(projection='3d')\n",
    "ax.set_xlabel('c')\n",
    "ax.set_ylabel('Pr_t')\n",
    "ax.set_zlabel('cost')\n",
    "ax.plot_surface(c_vals, prt_vals, costs_2d_pred, cmap=cm.RdBu)"
   ]
  }
 ],
 "metadata": {
  "kernelspec": {
   "display_name": "Python 3",
   "language": "python",
   "name": "python3"
  },
  "language_info": {
   "codemirror_mode": {
    "name": "ipython",
    "version": 3
   },
   "file_extension": ".py",
   "mimetype": "text/x-python",
   "name": "python",
   "nbconvert_exporter": "python",
   "pygments_lexer": "ipython3",
   "version": "3.6.2"
  }
 },
 "nbformat": 4,
 "nbformat_minor": 2
}
